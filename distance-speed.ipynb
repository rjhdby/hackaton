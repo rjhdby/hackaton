{
 "cells": [
  {
   "cell_type": "code",
   "execution_count": null,
   "metadata": {},
   "outputs": [],
   "source": [
    "# Install a pip package in the current Jupyter kernel\n",
    "import time\n",
    "import sys\n",
    "!{sys.executable} -m pip install RPi.GPIO"
   ]
  },
  {
   "cell_type": "code",
   "execution_count": null,
   "metadata": {},
   "outputs": [],
   "source": [
    "from Raspi_MotorHAT import Raspi_MotorHAT\n",
    "motor = Raspi_MotorHAT(addr=0x6f, freq=250).getMotor(1)\n",
    "\n",
    "def motor_brk():\n",
    "    global motor\n",
    "    # не понятно почему этот метод не заимплеменчен в Raspi_DCMotor\n",
    "    motor.MC.setPin(motor.IN1pin, 1)\n",
    "    motor.MC.setPin(motor.IN2pin, 1)\n",
    "\n",
    "def motor_fwd(speed):\n",
    "    global motor\n",
    "    motor.setSpeed(speed)\n",
    "    motor.run(Raspi_MotorHAT.FORWARD)\n",
    "\n",
    "def motor_bac(speed):\n",
    "    global motor\n",
    "    motor.setSpeed(speed)\n",
    "    motor.run(Raspi_MotorHAT.BACKWARD)\n",
    "    \n",
    "def motor_rel():\n",
    "    global motor\n",
    "    motor.run(Raspi_MotorHAT.RELEASE)"
   ]
  },
  {
   "cell_type": "code",
   "execution_count": null,
   "metadata": {},
   "outputs": [],
   "source": [
    "import RPi.GPIO as GPIO\n",
    "import time \n",
    "\n",
    "# GPIO.cleanup()\n",
    "\n",
    "GPIO.setmode(GPIO.BOARD)\n",
    "TRIG = 16\n",
    "ECHO = 18\n",
    "\n",
    "GPIO.setup(TRIG, GPIO.OUT, initial=0)\n",
    "GPIO.setup(ECHO, GPIO.IN)\n",
    "\n",
    "try:\n",
    "    while True:\n",
    "        # Minimum delay between measurements is 50ms. 100ms is fine:\n",
    "        time.sleep(0.1)\n",
    "\n",
    "        # Send a probe signal to the sensor. Signal should be 10 micro sec long.\n",
    "        GPIO.output(TRIG,1)\n",
    "        time.sleep(0.00001)\n",
    "        GPIO.output(TRIG,0)\n",
    "\n",
    "        while GPIO.input(ECHO) == 0:\n",
    "            pass \n",
    "            start = time.time()\n",
    "\n",
    "        while GPIO.input(ECHO) == 1:\n",
    "            pass \n",
    "            stop = time.time()\n",
    "        \n",
    "        minSpeed = 25\n",
    "        maxSpeed = 100\n",
    "        maxDistance = 200 # sm\n",
    "        # Print distance to object in santimeters. Sound speed = 340 m/s\n",
    "        distance = int((stop - start) * 17000);\n",
    "        speed = int(distance / maxDistance) * maxSpeed;\n",
    "        \n",
    "        if speed > maxSpeed:\n",
    "            speed = maxSpeed\n",
    "        if speed < minSpeed:\n",
    "            speed = minSpeed\n",
    "            \n",
    "        print(f\"Distance = {distance} sm, speed {speed}\")\n",
    "        motor_fwd(speed)\n",
    "\n",
    "except KeyboardInterrupt:\n",
    "    motor_rel()\n",
    "    GPIO.cleanup()"
   ]
  }
 ],
 "metadata": {
  "kernelspec": {
   "display_name": "Python 3",
   "language": "python",
   "name": "python3"
  },
  "language_info": {
   "codemirror_mode": {
    "name": "ipython",
    "version": 3
   },
   "file_extension": ".py",
   "mimetype": "text/x-python",
   "name": "python",
   "nbconvert_exporter": "python",
   "pygments_lexer": "ipython3",
   "version": "3.6.11"
  }
 },
 "nbformat": 4,
 "nbformat_minor": 4
}
